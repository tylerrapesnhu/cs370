{
 "cells": [
  {
   "cell_type": "markdown",
   "metadata": {},
   "source": [
    "# Treasure Hunt Game Notebook\n",
    "\n",
    "## Read and Review Your Starter Code\n",
    "The theme of this project is a popular treasure hunt game in which the player needs to find the treasure before the pirate does. While you will not be developing the entire game, you will write the part of the game that represents the intelligent agent, which is a pirate in this case. The pirate will try to find the optimal path to the treasure using deep Q-learning. \n",
    "\n",
    "You have been provided with two Python classes and this notebook to help you with this assignment. The first class, TreasureMaze.py, represents the environment, which includes a maze object defined as a matrix. The second class, GameExperience.py, stores the episodes – that is, all the states that come in between the initial state and the terminal state. This is later used by the agent for learning by experience, called \"exploration\". This notebook shows how to play a game. Your task is to complete the deep Q-learning implementation for which a skeleton implementation has been provided. The code blocks you will need to complete has #TODO as a header.\n",
    "\n",
    "First, read and review the next few code and instruction blocks to understand the code that you have been given."
   ]
  },
  {
   "cell_type": "code",
   "execution_count": 34,
   "metadata": {},
   "outputs": [],
   "source": [
    "from __future__ import print_function\n",
    "import os, sys, time, datetime, json, random\n",
    "import numpy as np\n",
    "from keras.models import Sequential\n",
    "from keras.layers.core import Dense, Activation\n",
    "from keras.optimizers import SGD , Adam, RMSprop\n",
    "from keras.layers.advanced_activations import PReLU\n",
    "import matplotlib.pyplot as plt\n",
    "from TreasureMaze import TreasureMaze\n",
    "from GameExperience import GameExperience\n",
    "%matplotlib inline"
   ]
  },
  {
   "cell_type": "markdown",
   "metadata": {},
   "source": [
    "The following code block contains an 8x8 matrix that will be used as a maze object:"
   ]
  },
  {
   "cell_type": "code",
   "execution_count": 35,
   "metadata": {},
   "outputs": [],
   "source": [
    "maze = np.array([\n",
    "    [ 1.,  0.,  1.,  1.,  1.,  1.,  1.,  1.],\n",
    "    [ 1.,  0.,  1.,  1.,  1.,  0.,  1.,  1.],\n",
    "    [ 1.,  1.,  1.,  1.,  0.,  1.,  0.,  1.],\n",
    "    [ 1.,  1.,  1.,  0.,  1.,  1.,  1.,  1.],\n",
    "    [ 1.,  1.,  0.,  1.,  1.,  1.,  1.,  1.],\n",
    "    [ 1.,  1.,  1.,  0.,  1.,  0.,  0.,  0.],\n",
    "    [ 1.,  1.,  1.,  0.,  1.,  1.,  1.,  1.],\n",
    "    [ 1.,  1.,  1.,  1.,  0.,  1.,  1.,  1.]\n",
    "])"
   ]
  },
  {
   "cell_type": "markdown",
   "metadata": {},
   "source": [
    "This helper function allows a visual representation of the maze object:"
   ]
  },
  {
   "cell_type": "code",
   "execution_count": 36,
   "metadata": {},
   "outputs": [],
   "source": [
    "def show(qmaze):\n",
    "    plt.grid('on')\n",
    "    nrows, ncols = qmaze.maze.shape\n",
    "    ax = plt.gca()\n",
    "    ax.set_xticks(np.arange(0.5, nrows, 1))\n",
    "    ax.set_yticks(np.arange(0.5, ncols, 1))\n",
    "    ax.set_xticklabels([])\n",
    "    ax.set_yticklabels([])\n",
    "    canvas = np.copy(qmaze.maze)\n",
    "    for row,col in qmaze.visited:\n",
    "        canvas[row,col] = 0.6\n",
    "    pirate_row, pirate_col, _ = qmaze.state\n",
    "    canvas[pirate_row, pirate_col] = 0.3   # pirate cell\n",
    "    canvas[nrows-1, ncols-1] = 0.9 # treasure cell\n",
    "    img = plt.imshow(canvas, interpolation='none', cmap='gray')\n",
    "    return img"
   ]
  },
  {
   "cell_type": "markdown",
   "metadata": {},
   "source": [
    "The pirate agent can move in four directions: left, right, up, and down. \n",
    "\n",
    "While the agent primarily learns by experience through exploitation, often, the agent can choose to explore the environment to find previously undiscovered paths. This is called \"exploration\" and is defined by epsilon. This value is typically a lower value such as 0.1, which means for every ten attempts, the agent will attempt to learn by experience nine times and will randomly explore a new path one time. You are encouraged to try various values for the exploration factor and see how the algorithm performs."
   ]
  },
  {
   "cell_type": "code",
   "execution_count": 37,
   "metadata": {},
   "outputs": [],
   "source": [
    "LEFT = 0\n",
    "UP = 1\n",
    "RIGHT = 2\n",
    "DOWN = 3\n",
    "\n",
    "\n",
    "# Exploration factor\n",
    "epsilon = 0.1\n",
    "\n",
    "# Actions dictionary\n",
    "actions_dict = {\n",
    "    LEFT: 'left',\n",
    "    UP: 'up',\n",
    "    RIGHT: 'right',\n",
    "    DOWN: 'down',\n",
    "}\n",
    "\n",
    "num_actions = len(actions_dict)\n"
   ]
  },
  {
   "cell_type": "markdown",
   "metadata": {},
   "source": [
    "The sample code block and output below show creating a maze object and performing one action (DOWN), which returns the reward. The resulting updated environment is visualized."
   ]
  },
  {
   "cell_type": "code",
   "execution_count": 38,
   "metadata": {},
   "outputs": [
    {
     "name": "stdout",
     "output_type": "stream",
     "text": [
      "reward= -0.04\n"
     ]
    },
    {
     "data": {
      "text/plain": [
       "<matplotlib.image.AxesImage at 0x20b0857ac88>"
      ]
     },
     "execution_count": 38,
     "metadata": {},
     "output_type": "execute_result"
    },
    {
     "data": {
      "image/png": "[encoded data removed]",
      "text/plain": [
       "<Figure size 432x288 with 1 Axes>"
      ]
     },
     "metadata": {
      "needs_background": "light"
     },
     "output_type": "display_data"
    }
   ],
   "source": [
    "qmaze = TreasureMaze(maze)\n",
    "canvas, reward, game_over = qmaze.act(DOWN)\n",
    "print(\"reward=\", reward)\n",
    "show(qmaze)"
   ]
  },
  {
   "cell_type": "markdown",
   "metadata": {},
   "source": [
    "This function simulates a full game based on the provided trained model. The other parameters include the TreasureMaze object and the starting position of the pirate."
   ]
  },
  {
   "cell_type": "code",
   "execution_count": 39,
   "metadata": {},
   "outputs": [],
   "source": [
    "def play_game(model, qmaze, pirate_cell):\n",
    "    qmaze.reset(pirate_cell)\n",
    "    envstate = qmaze.observe()\n",
    "    while True:\n",
    "        prev_envstate = envstate\n",
    "        # get next action\n",
    "        q = model.predict(prev_envstate)\n",
    "        action = np.argmax(q[0])\n",
    "\n",
    "        # apply action, get rewards and new state\n",
    "        envstate, reward, game_status = qmaze.act(action)\n",
    "        if game_status == 'win':\n",
    "            return True\n",
    "        elif game_status == 'lose':\n",
    "            return False"
   ]
  },
  {
   "cell_type": "markdown",
   "metadata": {},
   "source": [
    "This function helps you to determine whether the pirate can win any game at all. If your maze is not well designed, the pirate may not win any game at all. In this case, your training would not yield any result. The provided maze in this notebook ensures that there is a path to win and you can run this method to check."
   ]
  },
  {
   "cell_type": "code",
   "execution_count": 40,
   "metadata": {},
   "outputs": [],
   "source": [
    "def completion_check(model, qmaze):\n",
    "    for cell in qmaze.free_cells:\n",
    "        if not qmaze.valid_actions(cell):\n",
    "            return False\n",
    "        if not play_game(model, qmaze, cell):\n",
    "            return False\n",
    "    return True"
   ]
  },
  {
   "cell_type": "markdown",
   "metadata": {},
   "source": [
    "The code you have been given in this block will build the neural network model. Review the code and note the number of layers, as well as the activation, optimizer, and loss functions that are used to train the model."
   ]
  },
  {
   "cell_type": "code",
   "execution_count": 41,
   "metadata": {},
   "outputs": [],
   "source": [
    "def build_model(maze):\n",
    "    model = Sequential()\n",
    "    model.add(Dense(maze.size, input_shape=(maze.size,)))\n",
    "    model.add(PReLU())\n",
    "    model.add(Dense(maze.size))\n",
    "    model.add(PReLU())\n",
    "    model.add(Dense(num_actions))\n",
    "    model.compile(optimizer='adam', loss='mse')\n",
    "    return model"
   ]
  },
  {
   "cell_type": "markdown",
   "metadata": {},
   "source": [
    "# #TODO: Complete the Q-Training Algorithm Code Block\n",
    "\n",
    "This is your deep Q-learning implementation. The goal of your deep Q-learning implementation is to find the best possible navigation sequence that results in reaching the treasure cell while maximizing the reward. In your implementation, you need to determine the optimal number of epochs to achieve a 100% win rate.\n",
    "\n",
    "You will need to complete the section starting with #pseudocode. The pseudocode has been included for you."
   ]
  },
  {
   "cell_type": "code",
   "execution_count": 42,
   "metadata": {},
   "outputs": [],
   "source": [
    "def qtrain(model, maze, **opt):\n",
    "\n",
    "    # exploration factor\n",
    "    global epsilon \n",
    "\n",
    "    # number of epochs\n",
    "    n_epoch = opt.get('n_epoch', 200)\n",
    "\n",
    "    # maximum memory to store episodes\n",
    "    max_memory = opt.get('max_memory', 1000)\n",
    "\n",
    "    # maximum data size for training\n",
    "    data_size = opt.get('data_size', 50)\n",
    "\n",
    "    # start time\n",
    "    start_time = datetime.datetime.now()\n",
    "\n",
    "    # Construct environment/game from numpy array: maze (see above)\n",
    "    qmaze = TreasureMaze(maze)\n",
    "\n",
    "    # Initialize experience replay object\n",
    "    experience = GameExperience(model, max_memory=max_memory)\n",
    "    \n",
    "    win_history = []   # history of win/lose game\n",
    "    hsize = qmaze.maze.size//2   # history window size\n",
    "    win_rate = 0.0\n",
    "    \n",
    "    for epoch in range(n_epoch):\n",
    "        agent_cell = random.choice(qmaze.free_cells)\n",
    "        qmaze.reset(agent_cell)\n",
    "        envstate = qmaze.observe()\n",
    "        \n",
    "        game_over = False\n",
    "        n_episodes = 0\n",
    "        \n",
    "        while not game_over:\n",
    "            valid_actions = qmaze.valid_actions()\n",
    "            \n",
    "            if np.random.rand() < epsilon:\n",
    "                action = random.choice(valid_actions)\n",
    "            else:\n",
    "                q_values = experience.predict(envstate)\n",
    "                q_values = [q if i in valid_actions else -np.inf for i, q in enumerate(q_values)]\n",
    "                action = int(np.argmax(q_values))\n",
    "                \n",
    "            envstate_next, reward, status = qmaze.act(action)\n",
    "            game_over = (status != 'not_over')\n",
    "            \n",
    "            episode = [envstate, action, reward, envstate_next, game_over]\n",
    "            experience.remember(episode)\n",
    "            \n",
    "            envstate = envstate_next\n",
    "            n_episodes += 1\n",
    "            \n",
    "            inputs, targets = experience.get_data(data_size=data_size)\n",
    "            loss = model.train_on_batch(inputs, targets)\n",
    "            \n",
    "        win_history.append(1 if status == 'win' else 0)\n",
    "        if len(win_history) >hsize:\n",
    "            win_history.pop(0)\n",
    "        win_rate = sum(win_history) / len(win_history)\n",
    "    \n",
    "\n",
    "    #Print the epoch, loss, episodes, win count, and win rate for each epoch\n",
    "        dt = datetime.datetime.now() - start_time\n",
    "        t = format_time(dt.total_seconds())\n",
    "        template = \"Epoch: {:03d}/{:d} | Loss: {:.4f} | Episodes: {:d} | Win count: {:d} | Win rate: {:.3f} | time: {}\"\n",
    "        print(template.format(epoch, n_epoch-1, loss, n_episodes, sum(win_history), win_rate, t))\n",
    "        # We simply check if training has exhausted all free cells and if in all\n",
    "        # cases the agent won.\n",
    "        if win_rate > 0.9 : epsilon = 0.05\n",
    "        if sum(win_history[-hsize:]) == hsize and completion_check(model, qmaze):\n",
    "            print(\"Reached 100%% win rate at epoch: %d\" % (epoch,))\n",
    "            break\n",
    "    \n",
    "    \n",
    "    # Determine the total time for training\n",
    "    dt = datetime.datetime.now() - start_time\n",
    "    seconds = dt.total_seconds()\n",
    "    t = format_time(seconds)\n",
    "\n",
    "    print(\"n_epoch: %d, max_mem: %d, data: %d, time: %s\" % (epoch, max_memory, data_size, t))\n",
    "    return seconds\n",
    "\n",
    "# This is a small utility for printing readable time strings:\n",
    "def format_time(seconds):\n",
    "    if seconds < 400:\n",
    "        s = float(seconds)\n",
    "        return \"%.1f seconds\" % (s,)\n",
    "    elif seconds < 4000:\n",
    "        m = seconds / 60.0\n",
    "        return \"%.2f minutes\" % (m,)\n",
    "    else:\n",
    "        h = seconds / 3600.0\n",
    "        return \"%.2f hours\" % (h,)"
   ]
  },
  {
   "cell_type": "markdown",
   "metadata": {},
   "source": [
    "## Test Your Model\n",
    "\n",
    "Now we will start testing the deep Q-learning implementation. To begin, select **Cell**, then **Run All** from the menu bar. This will run your notebook. As it runs, you should see output begin to appear beneath the next few cells. The code below creates an instance of TreasureMaze."
   ]
  },
  {
   "cell_type": "code",
   "execution_count": 43,
   "metadata": {},
   "outputs": [
    {
     "data": {
      "text/plain": [
       "<matplotlib.image.AxesImage at 0x20b085a5a48>"
      ]
     },
     "execution_count": 43,
     "metadata": {},
     "output_type": "execute_result"
    },
    {
     "data": {
      "image/png": "[encoded data removed]",
      "text/plain": [
       "<Figure size 432x288 with 1 Axes>"
      ]
     },
     "metadata": {
      "needs_background": "light"
     },
     "output_type": "display_data"
    }
   ],
   "source": [
    "qmaze = TreasureMaze(maze)\n",
    "show(qmaze)"
   ]
  },
  {
   "cell_type": "markdown",
   "metadata": {},
   "source": [
    "In the next code block, you will build your model and train it using deep Q-learning. Note: This step takes several minutes to fully run."
   ]
  },
  {
   "cell_type": "code",
   "execution_count": 44,
   "metadata": {},
   "outputs": [
    {
     "name": "stdout",
     "output_type": "stream",
     "text": [
      "Epoch: 000/199 | Loss: 0.0009 | Episodes: 142 | Win count: 0 | Win rate: 0.000 | time: 11.0 seconds\n",
      "Epoch: 001/199 | Loss: 0.0024 | Episodes: 28 | Win count: 1 | Win rate: 0.500 | time: 13.2 seconds\n",
      "Epoch: 002/199 | Loss: 0.0035 | Episodes: 137 | Win count: 1 | Win rate: 0.333 | time: 23.3 seconds\n",
      "Epoch: 003/199 | Loss: 0.0447 | Episodes: 149 | Win count: 1 | Win rate: 0.250 | time: 35.2 seconds\n",
      "Epoch: 004/199 | Loss: 0.0077 | Episodes: 13 | Win count: 2 | Win rate: 0.400 | time: 36.3 seconds\n",
      "Epoch: 005/199 | Loss: 0.0502 | Episodes: 142 | Win count: 2 | Win rate: 0.333 | time: 46.1 seconds\n",
      "Epoch: 006/199 | Loss: 0.0090 | Episodes: 7 | Win count: 3 | Win rate: 0.429 | time: 46.7 seconds\n",
      "Epoch: 007/199 | Loss: 0.0256 | Episodes: 4 | Win count: 4 | Win rate: 0.500 | time: 47.1 seconds\n",
      "Epoch: 008/199 | Loss: 0.1631 | Episodes: 73 | Win count: 5 | Win rate: 0.556 | time: 52.0 seconds\n",
      "Epoch: 009/199 | Loss: 0.0932 | Episodes: 147 | Win count: 5 | Win rate: 0.500 | time: 63.7 seconds\n",
      "Epoch: 010/199 | Loss: 0.0237 | Episodes: 139 | Win count: 5 | Win rate: 0.455 | time: 74.7 seconds\n",
      "Epoch: 011/199 | Loss: 0.0261 | Episodes: 12 | Win count: 6 | Win rate: 0.500 | time: 75.7 seconds\n",
      "Epoch: 012/199 | Loss: 0.0033 | Episodes: 146 | Win count: 6 | Win rate: 0.462 | time: 88.1 seconds\n",
      "Epoch: 013/199 | Loss: 0.0619 | Episodes: 51 | Win count: 7 | Win rate: 0.500 | time: 92.3 seconds\n",
      "Epoch: 014/199 | Loss: 0.0029 | Episodes: 152 | Win count: 7 | Win rate: 0.467 | time: 104.4 seconds\n",
      "Epoch: 015/199 | Loss: 0.0025 | Episodes: 157 | Win count: 7 | Win rate: 0.438 | time: 117.6 seconds\n",
      "Epoch: 016/199 | Loss: 0.0032 | Episodes: 69 | Win count: 8 | Win rate: 0.471 | time: 123.1 seconds\n",
      "Epoch: 017/199 | Loss: 0.0033 | Episodes: 147 | Win count: 9 | Win rate: 0.500 | time: 135.6 seconds\n",
      "Epoch: 018/199 | Loss: 0.0033 | Episodes: 57 | Win count: 10 | Win rate: 0.526 | time: 139.9 seconds\n",
      "Epoch: 019/199 | Loss: 0.0101 | Episodes: 154 | Win count: 10 | Win rate: 0.500 | time: 151.6 seconds\n",
      "Epoch: 020/199 | Loss: 0.0349 | Episodes: 19 | Win count: 11 | Win rate: 0.524 | time: 153.2 seconds\n",
      "Epoch: 021/199 | Loss: 0.0420 | Episodes: 2 | Win count: 12 | Win rate: 0.545 | time: 153.4 seconds\n",
      "Epoch: 022/199 | Loss: 0.0057 | Episodes: 153 | Win count: 12 | Win rate: 0.522 | time: 165.9 seconds\n",
      "Epoch: 023/199 | Loss: 0.0593 | Episodes: 13 | Win count: 13 | Win rate: 0.542 | time: 167.0 seconds\n",
      "Epoch: 024/199 | Loss: 0.0042 | Episodes: 96 | Win count: 14 | Win rate: 0.560 | time: 174.2 seconds\n",
      "Epoch: 025/199 | Loss: 0.0147 | Episodes: 82 | Win count: 15 | Win rate: 0.577 | time: 180.6 seconds\n",
      "Epoch: 026/199 | Loss: 0.0041 | Episodes: 36 | Win count: 16 | Win rate: 0.593 | time: 183.9 seconds\n",
      "Epoch: 027/199 | Loss: 0.0487 | Episodes: 1 | Win count: 17 | Win rate: 0.607 | time: 184.0 seconds\n",
      "Epoch: 028/199 | Loss: 0.0578 | Episodes: 117 | Win count: 18 | Win rate: 0.621 | time: 194.4 seconds\n",
      "Epoch: 029/199 | Loss: 0.0293 | Episodes: 111 | Win count: 19 | Win rate: 0.633 | time: 203.3 seconds\n",
      "Epoch: 030/199 | Loss: 0.0078 | Episodes: 2 | Win count: 20 | Win rate: 0.645 | time: 203.4 seconds\n",
      "Epoch: 031/199 | Loss: 0.0234 | Episodes: 59 | Win count: 21 | Win rate: 0.656 | time: 208.5 seconds\n",
      "Epoch: 032/199 | Loss: 0.0151 | Episodes: 10 | Win count: 22 | Win rate: 0.688 | time: 209.3 seconds\n",
      "Epoch: 033/199 | Loss: 0.0080 | Episodes: 141 | Win count: 21 | Win rate: 0.656 | time: 221.6 seconds\n",
      "Epoch: 034/199 | Loss: 0.0057 | Episodes: 139 | Win count: 21 | Win rate: 0.656 | time: 233.6 seconds\n",
      "Epoch: 035/199 | Loss: 0.0025 | Episodes: 84 | Win count: 22 | Win rate: 0.688 | time: 241.1 seconds\n",
      "Epoch: 036/199 | Loss: 0.0510 | Episodes: 1 | Win count: 22 | Win rate: 0.688 | time: 241.2 seconds\n",
      "Epoch: 037/199 | Loss: 0.0089 | Episodes: 146 | Win count: 22 | Win rate: 0.688 | time: 253.5 seconds\n",
      "Epoch: 038/199 | Loss: 0.0298 | Episodes: 155 | Win count: 21 | Win rate: 0.656 | time: 267.7 seconds\n",
      "Epoch: 039/199 | Loss: 0.0019 | Episodes: 154 | Win count: 20 | Win rate: 0.625 | time: 280.4 seconds\n",
      "Epoch: 040/199 | Loss: 0.1240 | Episodes: 46 | Win count: 20 | Win rate: 0.625 | time: 284.1 seconds\n",
      "Epoch: 041/199 | Loss: 0.0421 | Episodes: 150 | Win count: 20 | Win rate: 0.625 | time: 294.8 seconds\n",
      "Epoch: 042/199 | Loss: 0.0639 | Episodes: 132 | Win count: 21 | Win rate: 0.656 | time: 304.3 seconds\n",
      "Epoch: 043/199 | Loss: 0.0094 | Episodes: 154 | Win count: 20 | Win rate: 0.625 | time: 316.1 seconds\n",
      "Epoch: 044/199 | Loss: 0.0088 | Episodes: 1 | Win count: 21 | Win rate: 0.656 | time: 316.1 seconds\n",
      "Epoch: 045/199 | Loss: 0.0035 | Episodes: 71 | Win count: 21 | Win rate: 0.656 | time: 322.1 seconds\n",
      "Epoch: 046/199 | Loss: 0.0026 | Episodes: 140 | Win count: 21 | Win rate: 0.656 | time: 333.1 seconds\n",
      "Epoch: 047/199 | Loss: 0.0051 | Episodes: 154 | Win count: 21 | Win rate: 0.656 | time: 345.5 seconds\n",
      "Epoch: 048/199 | Loss: 0.0045 | Episodes: 151 | Win count: 20 | Win rate: 0.625 | time: 358.0 seconds\n",
      "Epoch: 049/199 | Loss: 0.0885 | Episodes: 153 | Win count: 19 | Win rate: 0.594 | time: 369.9 seconds\n",
      "Epoch: 050/199 | Loss: 0.0015 | Episodes: 140 | Win count: 18 | Win rate: 0.562 | time: 380.5 seconds\n",
      "Epoch: 051/199 | Loss: 0.0018 | Episodes: 138 | Win count: 18 | Win rate: 0.562 | time: 391.2 seconds\n",
      "Epoch: 052/199 | Loss: 0.0019 | Episodes: 138 | Win count: 17 | Win rate: 0.531 | time: 6.69 minutes\n",
      "Epoch: 053/199 | Loss: 0.0017 | Episodes: 23 | Win count: 17 | Win rate: 0.531 | time: 6.72 minutes\n",
      "Epoch: 054/199 | Loss: 0.0037 | Episodes: 151 | Win count: 17 | Win rate: 0.531 | time: 6.93 minutes\n",
      "Epoch: 055/199 | Loss: 0.0017 | Episodes: 150 | Win count: 16 | Win rate: 0.500 | time: 7.11 minutes\n",
      "Epoch: 056/199 | Loss: 0.0340 | Episodes: 153 | Win count: 15 | Win rate: 0.469 | time: 7.29 minutes\n",
      "Epoch: 057/199 | Loss: 0.0021 | Episodes: 151 | Win count: 14 | Win rate: 0.438 | time: 7.48 minutes\n",
      "Epoch: 058/199 | Loss: 0.0031 | Episodes: 154 | Win count: 14 | Win rate: 0.438 | time: 7.72 minutes\n",
      "Epoch: 059/199 | Loss: 0.0686 | Episodes: 77 | Win count: 14 | Win rate: 0.438 | time: 7.83 minutes\n",
      "Epoch: 060/199 | Loss: 0.0474 | Episodes: 157 | Win count: 13 | Win rate: 0.406 | time: 8.05 minutes\n",
      "Epoch: 061/199 | Loss: 0.0835 | Episodes: 152 | Win count: 13 | Win rate: 0.406 | time: 8.24 minutes\n",
      "Epoch: 062/199 | Loss: 0.0039 | Episodes: 159 | Win count: 12 | Win rate: 0.375 | time: 8.45 minutes\n",
      "Epoch: 063/199 | Loss: 0.0027 | Episodes: 154 | Win count: 11 | Win rate: 0.344 | time: 8.67 minutes\n",
      "Epoch: 064/199 | Loss: 0.0029 | Episodes: 18 | Win count: 11 | Win rate: 0.344 | time: 8.70 minutes\n",
      "Epoch: 065/199 | Loss: 0.0849 | Episodes: 147 | Win count: 11 | Win rate: 0.344 | time: 8.90 minutes\n",
      "Epoch: 066/199 | Loss: 0.0023 | Episodes: 152 | Win count: 11 | Win rate: 0.344 | time: 9.12 minutes\n",
      "Epoch: 067/199 | Loss: 0.0832 | Episodes: 127 | Win count: 11 | Win rate: 0.344 | time: 9.28 minutes\n",
      "Epoch: 068/199 | Loss: 0.0025 | Episodes: 150 | Win count: 10 | Win rate: 0.312 | time: 9.48 minutes\n",
      "Epoch: 069/199 | Loss: 0.0426 | Episodes: 128 | Win count: 11 | Win rate: 0.344 | time: 9.66 minutes\n",
      "Epoch: 070/199 | Loss: 0.0060 | Episodes: 143 | Win count: 12 | Win rate: 0.375 | time: 9.87 minutes\n",
      "Epoch: 071/199 | Loss: 0.0045 | Episodes: 73 | Win count: 13 | Win rate: 0.406 | time: 9.97 minutes\n",
      "Epoch: 072/199 | Loss: 0.0044 | Episodes: 4 | Win count: 13 | Win rate: 0.406 | time: 9.98 minutes\n",
      "Epoch: 073/199 | Loss: 0.0044 | Episodes: 63 | Win count: 14 | Win rate: 0.438 | time: 10.06 minutes\n",
      "Epoch: 074/199 | Loss: 0.0093 | Episodes: 137 | Win count: 14 | Win rate: 0.438 | time: 10.25 minutes\n",
      "Epoch: 075/199 | Loss: 0.0112 | Episodes: 154 | Win count: 15 | Win rate: 0.469 | time: 10.45 minutes\n",
      "Epoch: 076/199 | Loss: 0.0119 | Episodes: 146 | Win count: 14 | Win rate: 0.438 | time: 10.67 minutes\n",
      "Epoch: 077/199 | Loss: 0.0043 | Episodes: 38 | Win count: 14 | Win rate: 0.438 | time: 10.72 minutes\n",
      "Epoch: 078/199 | Loss: 0.0061 | Episodes: 139 | Win count: 14 | Win rate: 0.438 | time: 10.93 minutes\n",
      "Epoch: 079/199 | Loss: 0.0039 | Episodes: 148 | Win count: 14 | Win rate: 0.438 | time: 11.14 minutes\n",
      "Epoch: 080/199 | Loss: 0.0126 | Episodes: 144 | Win count: 14 | Win rate: 0.438 | time: 11.33 minutes\n",
      "Epoch: 081/199 | Loss: 0.0288 | Episodes: 150 | Win count: 14 | Win rate: 0.438 | time: 11.53 minutes\n"
     ]
    },
    {
     "name": "stdout",
     "output_type": "stream",
     "text": [
      "Epoch: 082/199 | Loss: 0.0017 | Episodes: 146 | Win count: 14 | Win rate: 0.438 | time: 11.73 minutes\n",
      "Epoch: 083/199 | Loss: 0.0045 | Episodes: 149 | Win count: 14 | Win rate: 0.438 | time: 11.94 minutes\n",
      "Epoch: 084/199 | Loss: 0.0539 | Episodes: 142 | Win count: 14 | Win rate: 0.438 | time: 12.14 minutes\n",
      "Epoch: 085/199 | Loss: 0.0379 | Episodes: 147 | Win count: 13 | Win rate: 0.406 | time: 12.34 minutes\n",
      "Epoch: 086/199 | Loss: 0.0025 | Episodes: 1 | Win count: 14 | Win rate: 0.438 | time: 12.34 minutes\n",
      "Epoch: 087/199 | Loss: 0.0027 | Episodes: 150 | Win count: 14 | Win rate: 0.438 | time: 12.54 minutes\n",
      "Epoch: 088/199 | Loss: 0.0423 | Episodes: 145 | Win count: 14 | Win rate: 0.438 | time: 12.75 minutes\n",
      "Epoch: 089/199 | Loss: 0.0035 | Episodes: 161 | Win count: 15 | Win rate: 0.469 | time: 12.97 minutes\n",
      "Epoch: 090/199 | Loss: 0.0022 | Episodes: 147 | Win count: 14 | Win rate: 0.438 | time: 13.18 minutes\n",
      "Epoch: 091/199 | Loss: 0.0138 | Episodes: 150 | Win count: 13 | Win rate: 0.406 | time: 13.41 minutes\n",
      "Epoch: 092/199 | Loss: 0.0144 | Episodes: 2 | Win count: 14 | Win rate: 0.438 | time: 13.41 minutes\n",
      "Epoch: 093/199 | Loss: 0.0242 | Episodes: 1 | Win count: 14 | Win rate: 0.438 | time: 13.41 minutes\n",
      "Epoch: 094/199 | Loss: 0.0646 | Episodes: 151 | Win count: 14 | Win rate: 0.438 | time: 13.62 minutes\n",
      "Epoch: 095/199 | Loss: 0.0122 | Episodes: 46 | Win count: 15 | Win rate: 0.469 | time: 13.69 minutes\n",
      "Epoch: 096/199 | Loss: 0.0067 | Episodes: 150 | Win count: 14 | Win rate: 0.438 | time: 13.90 minutes\n",
      "Epoch: 097/199 | Loss: 0.0171 | Episodes: 154 | Win count: 14 | Win rate: 0.438 | time: 14.12 minutes\n",
      "Epoch: 098/199 | Loss: 0.0490 | Episodes: 150 | Win count: 14 | Win rate: 0.438 | time: 14.33 minutes\n",
      "Epoch: 099/199 | Loss: 0.0027 | Episodes: 78 | Win count: 14 | Win rate: 0.438 | time: 14.44 minutes\n",
      "Epoch: 100/199 | Loss: 0.0019 | Episodes: 14 | Win count: 15 | Win rate: 0.469 | time: 14.47 minutes\n",
      "Epoch: 101/199 | Loss: 0.1366 | Episodes: 4 | Win count: 15 | Win rate: 0.469 | time: 14.47 minutes\n",
      "Epoch: 102/199 | Loss: 0.0429 | Episodes: 150 | Win count: 14 | Win rate: 0.438 | time: 14.69 minutes\n",
      "Epoch: 103/199 | Loss: 0.0058 | Episodes: 143 | Win count: 13 | Win rate: 0.406 | time: 14.90 minutes\n",
      "Epoch: 104/199 | Loss: 0.0031 | Episodes: 155 | Win count: 12 | Win rate: 0.375 | time: 15.12 minutes\n",
      "Epoch: 105/199 | Loss: 0.0559 | Episodes: 2 | Win count: 12 | Win rate: 0.375 | time: 15.13 minutes\n",
      "Epoch: 106/199 | Loss: 0.0917 | Episodes: 19 | Win count: 12 | Win rate: 0.375 | time: 15.15 minutes\n",
      "Epoch: 107/199 | Loss: 0.0017 | Episodes: 101 | Win count: 12 | Win rate: 0.375 | time: 15.31 minutes\n",
      "Epoch: 108/199 | Loss: 0.1550 | Episodes: 90 | Win count: 13 | Win rate: 0.406 | time: 15.43 minutes\n",
      "Epoch: 109/199 | Loss: 0.0029 | Episodes: 153 | Win count: 12 | Win rate: 0.375 | time: 15.67 minutes\n",
      "Epoch: 110/199 | Loss: 0.0025 | Episodes: 140 | Win count: 12 | Win rate: 0.375 | time: 15.87 minutes\n",
      "Epoch: 111/199 | Loss: 0.0038 | Episodes: 31 | Win count: 13 | Win rate: 0.406 | time: 15.92 minutes\n",
      "Epoch: 112/199 | Loss: 0.0054 | Episodes: 134 | Win count: 13 | Win rate: 0.406 | time: 16.11 minutes\n",
      "Epoch: 113/199 | Loss: 0.0043 | Episodes: 15 | Win count: 14 | Win rate: 0.438 | time: 16.14 minutes\n",
      "Epoch: 114/199 | Loss: 0.0162 | Episodes: 115 | Win count: 15 | Win rate: 0.469 | time: 16.30 minutes\n",
      "Epoch: 115/199 | Loss: 0.0030 | Episodes: 35 | Win count: 16 | Win rate: 0.500 | time: 16.36 minutes\n",
      "Epoch: 116/199 | Loss: 0.0037 | Episodes: 119 | Win count: 17 | Win rate: 0.531 | time: 16.52 minutes\n",
      "Epoch: 117/199 | Loss: 0.0057 | Episodes: 139 | Win count: 17 | Win rate: 0.531 | time: 16.71 minutes\n",
      "Epoch: 118/199 | Loss: 0.0974 | Episodes: 150 | Win count: 16 | Win rate: 0.500 | time: 16.90 minutes\n",
      "Epoch: 119/199 | Loss: 0.0031 | Episodes: 144 | Win count: 16 | Win rate: 0.500 | time: 17.06 minutes\n",
      "Epoch: 120/199 | Loss: 0.0019 | Episodes: 139 | Win count: 16 | Win rate: 0.500 | time: 17.22 minutes\n",
      "Epoch: 121/199 | Loss: 0.0008 | Episodes: 50 | Win count: 16 | Win rate: 0.500 | time: 17.28 minutes\n",
      "Epoch: 122/199 | Loss: 0.0020 | Episodes: 143 | Win count: 16 | Win rate: 0.500 | time: 17.46 minutes\n",
      "Epoch: 123/199 | Loss: 0.0209 | Episodes: 63 | Win count: 17 | Win rate: 0.531 | time: 17.53 minutes\n",
      "Epoch: 124/199 | Loss: 0.0572 | Episodes: 1 | Win count: 17 | Win rate: 0.531 | time: 17.53 minutes\n",
      "Epoch: 125/199 | Loss: 0.0010 | Episodes: 10 | Win count: 17 | Win rate: 0.531 | time: 17.55 minutes\n",
      "Epoch: 126/199 | Loss: 0.0023 | Episodes: 135 | Win count: 17 | Win rate: 0.531 | time: 17.70 minutes\n",
      "Epoch: 127/199 | Loss: 0.0295 | Episodes: 17 | Win count: 17 | Win rate: 0.531 | time: 17.72 minutes\n",
      "Epoch: 128/199 | Loss: 0.0127 | Episodes: 99 | Win count: 18 | Win rate: 0.562 | time: 17.83 minutes\n",
      "Epoch: 129/199 | Loss: 0.0241 | Episodes: 150 | Win count: 18 | Win rate: 0.562 | time: 18.01 minutes\n",
      "Epoch: 130/199 | Loss: 0.0088 | Episodes: 144 | Win count: 18 | Win rate: 0.562 | time: 18.17 minutes\n",
      "Epoch: 131/199 | Loss: 0.0328 | Episodes: 151 | Win count: 17 | Win rate: 0.531 | time: 18.36 minutes\n",
      "Epoch: 132/199 | Loss: 0.0105 | Episodes: 1 | Win count: 17 | Win rate: 0.531 | time: 18.36 minutes\n",
      "Epoch: 133/199 | Loss: 0.0019 | Episodes: 134 | Win count: 16 | Win rate: 0.500 | time: 18.52 minutes\n",
      "Epoch: 134/199 | Loss: 0.0026 | Episodes: 20 | Win count: 17 | Win rate: 0.531 | time: 18.55 minutes\n",
      "Epoch: 135/199 | Loss: 0.0039 | Episodes: 91 | Win count: 18 | Win rate: 0.562 | time: 18.67 minutes\n",
      "Epoch: 136/199 | Loss: 0.0033 | Episodes: 5 | Win count: 19 | Win rate: 0.594 | time: 18.67 minutes\n",
      "Epoch: 137/199 | Loss: 0.0083 | Episodes: 141 | Win count: 18 | Win rate: 0.562 | time: 18.85 minutes\n",
      "Epoch: 138/199 | Loss: 0.0029 | Episodes: 124 | Win count: 18 | Win rate: 0.562 | time: 19.00 minutes\n",
      "Epoch: 139/199 | Loss: 0.0032 | Episodes: 139 | Win count: 17 | Win rate: 0.531 | time: 19.15 minutes\n",
      "Epoch: 140/199 | Loss: 0.0119 | Episodes: 3 | Win count: 17 | Win rate: 0.531 | time: 19.16 minutes\n",
      "Epoch: 141/199 | Loss: 0.0021 | Episodes: 154 | Win count: 17 | Win rate: 0.531 | time: 19.34 minutes\n",
      "Epoch: 142/199 | Loss: 0.0014 | Episodes: 23 | Win count: 18 | Win rate: 0.562 | time: 19.37 minutes\n",
      "Epoch: 143/199 | Loss: 0.0037 | Episodes: 49 | Win count: 18 | Win rate: 0.562 | time: 19.43 minutes\n",
      "Epoch: 144/199 | Loss: 0.0033 | Episodes: 45 | Win count: 19 | Win rate: 0.594 | time: 19.49 minutes\n",
      "Epoch: 145/199 | Loss: 0.0047 | Episodes: 144 | Win count: 18 | Win rate: 0.562 | time: 19.68 minutes\n",
      "Epoch: 146/199 | Loss: 0.0035 | Episodes: 134 | Win count: 17 | Win rate: 0.531 | time: 19.88 minutes\n",
      "Epoch: 147/199 | Loss: 0.0052 | Episodes: 144 | Win count: 16 | Win rate: 0.500 | time: 20.15 minutes\n",
      "Epoch: 148/199 | Loss: 0.0010 | Episodes: 133 | Win count: 15 | Win rate: 0.469 | time: 20.38 minutes\n",
      "Epoch: 149/199 | Loss: 0.0017 | Episodes: 76 | Win count: 16 | Win rate: 0.500 | time: 20.47 minutes\n",
      "Epoch: 150/199 | Loss: 0.0012 | Episodes: 3 | Win count: 17 | Win rate: 0.531 | time: 20.48 minutes\n",
      "Epoch: 151/199 | Loss: 0.0056 | Episodes: 150 | Win count: 17 | Win rate: 0.531 | time: 20.69 minutes\n",
      "Epoch: 152/199 | Loss: 0.0072 | Episodes: 1 | Win count: 18 | Win rate: 0.562 | time: 20.69 minutes\n",
      "Epoch: 153/199 | Loss: 0.1120 | Episodes: 19 | Win count: 18 | Win rate: 0.562 | time: 20.73 minutes\n",
      "Epoch: 154/199 | Loss: 0.0028 | Episodes: 133 | Win count: 19 | Win rate: 0.594 | time: 20.96 minutes\n",
      "Epoch: 155/199 | Loss: 0.0023 | Episodes: 89 | Win count: 19 | Win rate: 0.594 | time: 21.08 minutes\n",
      "Epoch: 156/199 | Loss: 0.0040 | Episodes: 135 | Win count: 18 | Win rate: 0.562 | time: 21.27 minutes\n",
      "Epoch: 157/199 | Loss: 0.0013 | Episodes: 89 | Win count: 18 | Win rate: 0.562 | time: 21.40 minutes\n",
      "Epoch: 158/199 | Loss: 0.0996 | Episodes: 148 | Win count: 18 | Win rate: 0.562 | time: 21.59 minutes\n",
      "Epoch: 159/199 | Loss: 0.0058 | Episodes: 141 | Win count: 17 | Win rate: 0.531 | time: 21.76 minutes\n",
      "Epoch: 160/199 | Loss: 0.0040 | Episodes: 139 | Win count: 16 | Win rate: 0.500 | time: 21.97 minutes\n",
      "Epoch: 161/199 | Loss: 0.0016 | Episodes: 153 | Win count: 16 | Win rate: 0.500 | time: 22.25 minutes\n",
      "Epoch: 162/199 | Loss: 0.0012 | Episodes: 141 | Win count: 16 | Win rate: 0.500 | time: 22.51 minutes\n"
     ]
    },
    {
     "name": "stdout",
     "output_type": "stream",
     "text": [
      "Epoch: 163/199 | Loss: 0.0020 | Episodes: 149 | Win count: 16 | Win rate: 0.500 | time: 22.80 minutes\n",
      "Epoch: 164/199 | Loss: 0.0011 | Episodes: 17 | Win count: 16 | Win rate: 0.500 | time: 22.83 minutes\n",
      "Epoch: 165/199 | Loss: 0.0014 | Episodes: 137 | Win count: 16 | Win rate: 0.500 | time: 23.07 minutes\n",
      "Epoch: 166/199 | Loss: 0.0604 | Episodes: 35 | Win count: 16 | Win rate: 0.500 | time: 23.13 minutes\n",
      "Epoch: 167/199 | Loss: 0.1743 | Episodes: 14 | Win count: 16 | Win rate: 0.500 | time: 23.15 minutes\n",
      "Epoch: 168/199 | Loss: 0.0257 | Episodes: 139 | Win count: 15 | Win rate: 0.469 | time: 23.38 minutes\n",
      "Epoch: 169/199 | Loss: 0.0418 | Episodes: 40 | Win count: 16 | Win rate: 0.500 | time: 23.44 minutes\n",
      "Epoch: 170/199 | Loss: 0.0050 | Episodes: 155 | Win count: 15 | Win rate: 0.469 | time: 23.69 minutes\n",
      "Epoch: 171/199 | Loss: 0.0044 | Episodes: 13 | Win count: 16 | Win rate: 0.500 | time: 23.71 minutes\n",
      "Epoch: 172/199 | Loss: 0.0740 | Episodes: 134 | Win count: 15 | Win rate: 0.469 | time: 23.94 minutes\n",
      "Epoch: 173/199 | Loss: 0.0029 | Episodes: 2 | Win count: 16 | Win rate: 0.500 | time: 23.94 minutes\n",
      "Epoch: 174/199 | Loss: 0.0030 | Episodes: 113 | Win count: 16 | Win rate: 0.500 | time: 24.15 minutes\n",
      "Epoch: 175/199 | Loss: 0.0038 | Episodes: 2 | Win count: 16 | Win rate: 0.500 | time: 24.15 minutes\n",
      "Epoch: 176/199 | Loss: 0.0047 | Episodes: 139 | Win count: 15 | Win rate: 0.469 | time: 24.38 minutes\n",
      "Epoch: 177/199 | Loss: 0.0021 | Episodes: 102 | Win count: 16 | Win rate: 0.500 | time: 24.55 minutes\n",
      "Epoch: 178/199 | Loss: 0.0030 | Episodes: 4 | Win count: 17 | Win rate: 0.531 | time: 24.56 minutes\n",
      "Epoch: 179/199 | Loss: 0.0026 | Episodes: 72 | Win count: 18 | Win rate: 0.562 | time: 24.71 minutes\n",
      "Epoch: 180/199 | Loss: 0.0052 | Episodes: 142 | Win count: 18 | Win rate: 0.562 | time: 25.04 minutes\n",
      "Epoch: 181/199 | Loss: 0.0022 | Episodes: 161 | Win count: 17 | Win rate: 0.531 | time: 25.35 minutes\n",
      "Epoch: 182/199 | Loss: 0.0688 | Episodes: 21 | Win count: 17 | Win rate: 0.531 | time: 25.38 minutes\n",
      "Epoch: 183/199 | Loss: 0.0925 | Episodes: 44 | Win count: 18 | Win rate: 0.562 | time: 25.47 minutes\n",
      "Epoch: 184/199 | Loss: 0.0019 | Episodes: 148 | Win count: 17 | Win rate: 0.531 | time: 25.75 minutes\n",
      "Epoch: 185/199 | Loss: 0.0027 | Episodes: 144 | Win count: 16 | Win rate: 0.500 | time: 26.01 minutes\n",
      "Epoch: 186/199 | Loss: 0.0025 | Episodes: 121 | Win count: 16 | Win rate: 0.500 | time: 26.21 minutes\n",
      "Epoch: 187/199 | Loss: 0.0039 | Episodes: 7 | Win count: 16 | Win rate: 0.500 | time: 26.22 minutes\n",
      "Epoch: 188/199 | Loss: 0.0028 | Episodes: 141 | Win count: 16 | Win rate: 0.500 | time: 26.52 minutes\n",
      "Epoch: 189/199 | Loss: 0.0031 | Episodes: 139 | Win count: 15 | Win rate: 0.469 | time: 26.84 minutes\n",
      "Epoch: 190/199 | Loss: 0.0031 | Episodes: 139 | Win count: 15 | Win rate: 0.469 | time: 27.08 minutes\n",
      "Epoch: 191/199 | Loss: 0.0046 | Episodes: 9 | Win count: 16 | Win rate: 0.500 | time: 27.09 minutes\n",
      "Epoch: 192/199 | Loss: 0.0477 | Episodes: 159 | Win count: 16 | Win rate: 0.500 | time: 27.40 minutes\n",
      "Epoch: 193/199 | Loss: 0.0109 | Episodes: 144 | Win count: 16 | Win rate: 0.500 | time: 27.69 minutes\n",
      "Epoch: 194/199 | Loss: 0.0415 | Episodes: 143 | Win count: 16 | Win rate: 0.500 | time: 27.97 minutes\n",
      "Epoch: 195/199 | Loss: 0.0030 | Episodes: 150 | Win count: 16 | Win rate: 0.500 | time: 28.25 minutes\n",
      "Epoch: 196/199 | Loss: 0.0021 | Episodes: 151 | Win count: 15 | Win rate: 0.469 | time: 28.55 minutes\n",
      "Epoch: 197/199 | Loss: 0.0706 | Episodes: 144 | Win count: 15 | Win rate: 0.469 | time: 28.80 minutes\n",
      "Epoch: 198/199 | Loss: 0.0020 | Episodes: 136 | Win count: 14 | Win rate: 0.438 | time: 29.05 minutes\n",
      "Epoch: 199/199 | Loss: 0.0027 | Episodes: 143 | Win count: 13 | Win rate: 0.406 | time: 29.30 minutes\n",
      "n_epoch: 199, max_mem: 512, data: 32, time: 29.30 minutes\n"
     ]
    },
    {
     "data": {
      "text/plain": [
       "1758.284129"
      ]
     },
     "execution_count": 44,
     "metadata": {},
     "output_type": "execute_result"
    }
   ],
   "source": [
    "model = build_model(maze)\n",
    "qtrain(model, maze, epochs=1000, max_memory=8*maze.size, data_size=32)"
   ]
  },
  {
   "cell_type": "markdown",
   "metadata": {},
   "source": [
    "This cell will check to see if the model passes the completion check. Note: This could take several minutes."
   ]
  },
  {
   "cell_type": "code",
   "execution_count": 45,
   "metadata": {},
   "outputs": [
    {
     "data": {
      "text/plain": [
       "<matplotlib.image.AxesImage at 0x20b1154eb08>"
      ]
     },
     "execution_count": 45,
     "metadata": {},
     "output_type": "execute_result"
    },
    {
     "data": {
      "image/png": "[encoded data removed]",
      "text/plain": [
       "<Figure size 432x288 with 1 Axes>"
      ]
     },
     "metadata": {
      "needs_background": "light"
     },
     "output_type": "display_data"
    }
   ],
   "source": [
    "completion_check(model, qmaze)\n",
    "show(qmaze)"
   ]
  },
  {
   "cell_type": "markdown",
   "metadata": {},
   "source": [
    "This cell will test your model for one game. It will start the pirate at the top-left corner and run play_game. The agent should find a path from the starting position to the target (treasure). The treasure is located in the bottom-right corner."
   ]
  },
  {
   "cell_type": "code",
   "execution_count": 46,
   "metadata": {},
   "outputs": [
    {
     "data": {
      "text/plain": [
       "<matplotlib.image.AxesImage at 0x20b08445ec8>"
      ]
     },
     "execution_count": 46,
     "metadata": {},
     "output_type": "execute_result"
    },
    {
     "data": {
      "image/png": "[encoded data removed]",
      "text/plain": [
       "<Figure size 432x288 with 1 Axes>"
      ]
     },
     "metadata": {
      "needs_background": "light"
     },
     "output_type": "display_data"
    }
   ],
   "source": [
    "pirate_start = (0, 0)\n",
    "play_game(model, qmaze, pirate_start)\n",
    "show(qmaze)"
   ]
  },
  {
   "cell_type": "markdown",
   "metadata": {},
   "source": [
    "## Save and Submit Your Work\n",
    "After you have finished creating the code for your notebook, save your work. Make sure that your notebook contains your name in the filename (e.g. Doe_Jane_ProjectTwo.ipynb). This will help your instructor access and grade your work easily. Download a copy of your IPYNB file and submit it to Brightspace. Refer to the Jupyter Notebook in Apporto Tutorial if you need help with these tasks."
   ]
  }
 ],
 "metadata": {
  "kernelspec": {
   "display_name": "Python 3",
   "language": "python",
   "name": "python3"
  },
  "language_info": {
   "codemirror_mode": {
    "name": "ipython",
    "version": 3
   },
   "file_extension": ".py",
   "mimetype": "text/x-python",
   "name": "python",
   "nbconvert_exporter": "python",
   "pygments_lexer": "ipython3",
   "version": "3.7.4"
  }
 },
 "nbformat": 4,
 "nbformat_minor": 2
}
